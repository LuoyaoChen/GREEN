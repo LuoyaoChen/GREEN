{
 "cells": [
  {
   "cell_type": "markdown",
   "id": "2e7e3801-91da-47ea-8b57-13855e558ea9",
   "metadata": {},
   "source": [
    "# Data Analysis\n",
    "\n",
    "This notebook provides data analysis code for the ReportMetricExpertEvalAlignment-v0 dataset."
   ]
  },
  {
   "cell_type": "markdown",
   "id": "c143e399-7d89-4328-b211-8f5feb4bad04",
   "metadata": {},
   "source": [
    "## Setup"
   ]
  },
  {
   "cell_type": "code",
   "execution_count": 1,
   "id": "51682940-1ddc-4cb9-be19-4652ead1a373",
   "metadata": {},
   "outputs": [],
   "source": [
    "import os\n",
    "\n",
    "from matplotlib import pyplot as plt\n",
    "import pandas as pd\n",
    "import seaborn as sns"
   ]
  },
  {
   "cell_type": "code",
   "execution_count": 2,
   "id": "c79cb15a-d89b-4233-9334-d38097583d64",
   "metadata": {},
   "outputs": [],
   "source": [
    "data_dir = ''\n",
    "study_reports_path = os.path.join(data_dir, '50_samples_gt_and_candidates.csv')\n",
    "errors_path = os.path.join(data_dir, '6_valid_raters_per_rater_error_categories.csv')"
   ]
  },
  {
   "cell_type": "code",
   "execution_count": 3,
   "id": "7975db19-d160-4f40-8dfa-715658a710b3",
   "metadata": {},
   "outputs": [],
   "source": [
    "study_reports_df = pd.read_csv(study_reports_path)\n",
    "errors_df = pd.read_csv(errors_path)"
   ]
  },
  {
   "cell_type": "markdown",
   "id": "131c02c5-f8ae-46ac-a985-0247699e16b6",
   "metadata": {},
   "source": [
    "## Compute mean errors per study"
   ]
  },
  {
   "cell_type": "markdown",
   "id": "981cc07f-3601-4a09-bd22-161e829190b1",
   "metadata": {},
   "source": [
    "### Compute mean number of errors over radiologists"
   ]
  },
  {
   "cell_type": "code",
   "execution_count": 4,
   "id": "5d500c06-46ee-4f7d-8fe0-30c9ffe43e0c",
   "metadata": {},
   "outputs": [],
   "source": [
    "def compute_mean_errors(errors_df, is_significant):\n",
    "    '''Computes mean number of errors over radiologists.\n",
    "\n",
    "    errors_df: DataFrame containing radiologist annotations.\n",
    "    is_significant: Whether to look at clinically significant or insignificant\n",
    "        errors.\n",
    "    '''\n",
    "    errors_df = errors_df.loc[\n",
    "        errors_df['clinically_significant'] == is_significant]\n",
    "    # Compute per-rater mean errors\n",
    "    mean_errors = errors_df.groupby(\n",
    "        ['study_number', 'candidate_type', 'error_category']).mean()\n",
    "    mean_errors = mean_errors.drop(\n",
    "        columns=['rater_index', 'clinically_significant'])\n",
    "    mean_errors = mean_errors.reset_index()\n",
    "    # Sum over error categories\n",
    "    mean_errors = mean_errors.groupby(['study_number', 'candidate_type']).sum()\n",
    "    mean_errors = mean_errors.drop(columns=['error_category'])\n",
    "    mean_errors = mean_errors.reset_index()\n",
    "    return mean_errors"
   ]
  },
  {
   "cell_type": "code",
   "execution_count": 5,
   "id": "ec81c2f6-dd71-44bb-889f-7d3041c50c73",
   "metadata": {},
   "outputs": [
    {
     "data": {
      "text/html": [
       "<div>\n",
       "<style scoped>\n",
       "    .dataframe tbody tr th:only-of-type {\n",
       "        vertical-align: middle;\n",
       "    }\n",
       "\n",
       "    .dataframe tbody tr th {\n",
       "        vertical-align: top;\n",
       "    }\n",
       "\n",
       "    .dataframe thead th {\n",
       "        text-align: right;\n",
       "    }\n",
       "</style>\n",
       "<table border=\"1\" class=\"dataframe\">\n",
       "  <thead>\n",
       "    <tr style=\"text-align: right;\">\n",
       "      <th></th>\n",
       "      <th>study_number</th>\n",
       "      <th>candidate_type</th>\n",
       "      <th>num_errors</th>\n",
       "    </tr>\n",
       "  </thead>\n",
       "  <tbody>\n",
       "    <tr>\n",
       "      <th>0</th>\n",
       "      <td>0</td>\n",
       "      <td>bertscore</td>\n",
       "      <td>1.666667</td>\n",
       "    </tr>\n",
       "    <tr>\n",
       "      <th>1</th>\n",
       "      <td>0</td>\n",
       "      <td>bleu</td>\n",
       "      <td>1.666667</td>\n",
       "    </tr>\n",
       "    <tr>\n",
       "      <th>2</th>\n",
       "      <td>0</td>\n",
       "      <td>radgraph</td>\n",
       "      <td>0.833333</td>\n",
       "    </tr>\n",
       "    <tr>\n",
       "      <th>3</th>\n",
       "      <td>0</td>\n",
       "      <td>s_emb</td>\n",
       "      <td>1.833333</td>\n",
       "    </tr>\n",
       "    <tr>\n",
       "      <th>4</th>\n",
       "      <td>1</td>\n",
       "      <td>bertscore</td>\n",
       "      <td>1.166667</td>\n",
       "    </tr>\n",
       "    <tr>\n",
       "      <th>...</th>\n",
       "      <td>...</td>\n",
       "      <td>...</td>\n",
       "      <td>...</td>\n",
       "    </tr>\n",
       "    <tr>\n",
       "      <th>195</th>\n",
       "      <td>48</td>\n",
       "      <td>s_emb</td>\n",
       "      <td>1.166667</td>\n",
       "    </tr>\n",
       "    <tr>\n",
       "      <th>196</th>\n",
       "      <td>49</td>\n",
       "      <td>bertscore</td>\n",
       "      <td>0.000000</td>\n",
       "    </tr>\n",
       "    <tr>\n",
       "      <th>197</th>\n",
       "      <td>49</td>\n",
       "      <td>bleu</td>\n",
       "      <td>0.000000</td>\n",
       "    </tr>\n",
       "    <tr>\n",
       "      <th>198</th>\n",
       "      <td>49</td>\n",
       "      <td>radgraph</td>\n",
       "      <td>0.000000</td>\n",
       "    </tr>\n",
       "    <tr>\n",
       "      <th>199</th>\n",
       "      <td>49</td>\n",
       "      <td>s_emb</td>\n",
       "      <td>1.333333</td>\n",
       "    </tr>\n",
       "  </tbody>\n",
       "</table>\n",
       "<p>200 rows × 3 columns</p>\n",
       "</div>"
      ],
      "text/plain": [
       "     study_number candidate_type  num_errors\n",
       "0               0      bertscore    1.666667\n",
       "1               0           bleu    1.666667\n",
       "2               0       radgraph    0.833333\n",
       "3               0          s_emb    1.833333\n",
       "4               1      bertscore    1.166667\n",
       "..            ...            ...         ...\n",
       "195            48          s_emb    1.166667\n",
       "196            49      bertscore    0.000000\n",
       "197            49           bleu    0.000000\n",
       "198            49       radgraph    0.000000\n",
       "199            49          s_emb    1.333333\n",
       "\n",
       "[200 rows x 3 columns]"
      ]
     },
     "metadata": {},
     "output_type": "display_data"
    },
    {
     "data": {
      "text/html": [
       "<div>\n",
       "<style scoped>\n",
       "    .dataframe tbody tr th:only-of-type {\n",
       "        vertical-align: middle;\n",
       "    }\n",
       "\n",
       "    .dataframe tbody tr th {\n",
       "        vertical-align: top;\n",
       "    }\n",
       "\n",
       "    .dataframe thead th {\n",
       "        text-align: right;\n",
       "    }\n",
       "</style>\n",
       "<table border=\"1\" class=\"dataframe\">\n",
       "  <thead>\n",
       "    <tr style=\"text-align: right;\">\n",
       "      <th></th>\n",
       "      <th>study_number</th>\n",
       "      <th>candidate_type</th>\n",
       "      <th>num_errors</th>\n",
       "    </tr>\n",
       "  </thead>\n",
       "  <tbody>\n",
       "    <tr>\n",
       "      <th>0</th>\n",
       "      <td>0</td>\n",
       "      <td>bertscore</td>\n",
       "      <td>1.500000</td>\n",
       "    </tr>\n",
       "    <tr>\n",
       "      <th>1</th>\n",
       "      <td>0</td>\n",
       "      <td>bleu</td>\n",
       "      <td>1.000000</td>\n",
       "    </tr>\n",
       "    <tr>\n",
       "      <th>2</th>\n",
       "      <td>0</td>\n",
       "      <td>radgraph</td>\n",
       "      <td>1.500000</td>\n",
       "    </tr>\n",
       "    <tr>\n",
       "      <th>3</th>\n",
       "      <td>0</td>\n",
       "      <td>s_emb</td>\n",
       "      <td>1.666667</td>\n",
       "    </tr>\n",
       "    <tr>\n",
       "      <th>4</th>\n",
       "      <td>1</td>\n",
       "      <td>bertscore</td>\n",
       "      <td>0.833333</td>\n",
       "    </tr>\n",
       "    <tr>\n",
       "      <th>...</th>\n",
       "      <td>...</td>\n",
       "      <td>...</td>\n",
       "      <td>...</td>\n",
       "    </tr>\n",
       "    <tr>\n",
       "      <th>195</th>\n",
       "      <td>48</td>\n",
       "      <td>s_emb</td>\n",
       "      <td>0.166667</td>\n",
       "    </tr>\n",
       "    <tr>\n",
       "      <th>196</th>\n",
       "      <td>49</td>\n",
       "      <td>bertscore</td>\n",
       "      <td>0.500000</td>\n",
       "    </tr>\n",
       "    <tr>\n",
       "      <th>197</th>\n",
       "      <td>49</td>\n",
       "      <td>bleu</td>\n",
       "      <td>0.500000</td>\n",
       "    </tr>\n",
       "    <tr>\n",
       "      <th>198</th>\n",
       "      <td>49</td>\n",
       "      <td>radgraph</td>\n",
       "      <td>0.000000</td>\n",
       "    </tr>\n",
       "    <tr>\n",
       "      <th>199</th>\n",
       "      <td>49</td>\n",
       "      <td>s_emb</td>\n",
       "      <td>0.333333</td>\n",
       "    </tr>\n",
       "  </tbody>\n",
       "</table>\n",
       "<p>200 rows × 3 columns</p>\n",
       "</div>"
      ],
      "text/plain": [
       "     study_number candidate_type  num_errors\n",
       "0               0      bertscore    1.500000\n",
       "1               0           bleu    1.000000\n",
       "2               0       radgraph    1.500000\n",
       "3               0          s_emb    1.666667\n",
       "4               1      bertscore    0.833333\n",
       "..            ...            ...         ...\n",
       "195            48          s_emb    0.166667\n",
       "196            49      bertscore    0.500000\n",
       "197            49           bleu    0.500000\n",
       "198            49       radgraph    0.000000\n",
       "199            49          s_emb    0.333333\n",
       "\n",
       "[200 rows x 3 columns]"
      ]
     },
     "metadata": {},
     "output_type": "display_data"
    }
   ],
   "source": [
    "sig_mean_errors = compute_mean_errors(\n",
    "    errors_df=errors_df,\n",
    "    is_significant=True)\n",
    "display(sig_mean_errors)\n",
    "\n",
    "insig_mean_errors = compute_mean_errors(\n",
    "    errors_df=errors_df,\n",
    "    is_significant=False)\n",
    "display(insig_mean_errors)"
   ]
  },
  {
   "cell_type": "markdown",
   "id": "b3869d35-11c3-4944-8437-4251d24e55fe",
   "metadata": {},
   "source": [
    "### Combine clinically significant and insignificant errors"
   ]
  },
  {
   "cell_type": "code",
   "execution_count": 6,
   "id": "0c0acf5b-01d2-479c-8ed4-e3fd6032f587",
   "metadata": {},
   "outputs": [
    {
     "data": {
      "text/html": [
       "<div>\n",
       "<style scoped>\n",
       "    .dataframe tbody tr th:only-of-type {\n",
       "        vertical-align: middle;\n",
       "    }\n",
       "\n",
       "    .dataframe tbody tr th {\n",
       "        vertical-align: top;\n",
       "    }\n",
       "\n",
       "    .dataframe thead th {\n",
       "        text-align: right;\n",
       "    }\n",
       "</style>\n",
       "<table border=\"1\" class=\"dataframe\">\n",
       "  <thead>\n",
       "    <tr style=\"text-align: right;\">\n",
       "      <th></th>\n",
       "      <th>study_number</th>\n",
       "      <th>candidate_type</th>\n",
       "      <th>num_sig_errors</th>\n",
       "      <th>num_insig_errors</th>\n",
       "      <th>total_num_errors</th>\n",
       "    </tr>\n",
       "  </thead>\n",
       "  <tbody>\n",
       "    <tr>\n",
       "      <th>0</th>\n",
       "      <td>0</td>\n",
       "      <td>bertscore</td>\n",
       "      <td>1.666667</td>\n",
       "      <td>1.500000</td>\n",
       "      <td>3.166667</td>\n",
       "    </tr>\n",
       "    <tr>\n",
       "      <th>1</th>\n",
       "      <td>0</td>\n",
       "      <td>bleu</td>\n",
       "      <td>1.666667</td>\n",
       "      <td>1.000000</td>\n",
       "      <td>2.666667</td>\n",
       "    </tr>\n",
       "    <tr>\n",
       "      <th>2</th>\n",
       "      <td>0</td>\n",
       "      <td>radgraph</td>\n",
       "      <td>0.833333</td>\n",
       "      <td>1.500000</td>\n",
       "      <td>2.333333</td>\n",
       "    </tr>\n",
       "    <tr>\n",
       "      <th>3</th>\n",
       "      <td>0</td>\n",
       "      <td>s_emb</td>\n",
       "      <td>1.833333</td>\n",
       "      <td>1.666667</td>\n",
       "      <td>3.500000</td>\n",
       "    </tr>\n",
       "    <tr>\n",
       "      <th>4</th>\n",
       "      <td>1</td>\n",
       "      <td>bertscore</td>\n",
       "      <td>1.166667</td>\n",
       "      <td>0.833333</td>\n",
       "      <td>2.000000</td>\n",
       "    </tr>\n",
       "    <tr>\n",
       "      <th>...</th>\n",
       "      <td>...</td>\n",
       "      <td>...</td>\n",
       "      <td>...</td>\n",
       "      <td>...</td>\n",
       "      <td>...</td>\n",
       "    </tr>\n",
       "    <tr>\n",
       "      <th>195</th>\n",
       "      <td>48</td>\n",
       "      <td>s_emb</td>\n",
       "      <td>1.166667</td>\n",
       "      <td>0.166667</td>\n",
       "      <td>1.333333</td>\n",
       "    </tr>\n",
       "    <tr>\n",
       "      <th>196</th>\n",
       "      <td>49</td>\n",
       "      <td>bertscore</td>\n",
       "      <td>0.000000</td>\n",
       "      <td>0.500000</td>\n",
       "      <td>0.500000</td>\n",
       "    </tr>\n",
       "    <tr>\n",
       "      <th>197</th>\n",
       "      <td>49</td>\n",
       "      <td>bleu</td>\n",
       "      <td>0.000000</td>\n",
       "      <td>0.500000</td>\n",
       "      <td>0.500000</td>\n",
       "    </tr>\n",
       "    <tr>\n",
       "      <th>198</th>\n",
       "      <td>49</td>\n",
       "      <td>radgraph</td>\n",
       "      <td>0.000000</td>\n",
       "      <td>0.000000</td>\n",
       "      <td>0.000000</td>\n",
       "    </tr>\n",
       "    <tr>\n",
       "      <th>199</th>\n",
       "      <td>49</td>\n",
       "      <td>s_emb</td>\n",
       "      <td>1.333333</td>\n",
       "      <td>0.333333</td>\n",
       "      <td>1.666667</td>\n",
       "    </tr>\n",
       "  </tbody>\n",
       "</table>\n",
       "<p>200 rows × 5 columns</p>\n",
       "</div>"
      ],
      "text/plain": [
       "     study_number candidate_type  num_sig_errors  num_insig_errors  \\\n",
       "0               0      bertscore        1.666667          1.500000   \n",
       "1               0           bleu        1.666667          1.000000   \n",
       "2               0       radgraph        0.833333          1.500000   \n",
       "3               0          s_emb        1.833333          1.666667   \n",
       "4               1      bertscore        1.166667          0.833333   \n",
       "..            ...            ...             ...               ...   \n",
       "195            48          s_emb        1.166667          0.166667   \n",
       "196            49      bertscore        0.000000          0.500000   \n",
       "197            49           bleu        0.000000          0.500000   \n",
       "198            49       radgraph        0.000000          0.000000   \n",
       "199            49          s_emb        1.333333          0.333333   \n",
       "\n",
       "     total_num_errors  \n",
       "0            3.166667  \n",
       "1            2.666667  \n",
       "2            2.333333  \n",
       "3            3.500000  \n",
       "4            2.000000  \n",
       "..                ...  \n",
       "195          1.333333  \n",
       "196          0.500000  \n",
       "197          0.500000  \n",
       "198          0.000000  \n",
       "199          1.666667  \n",
       "\n",
       "[200 rows x 5 columns]"
      ]
     },
     "metadata": {},
     "output_type": "display_data"
    }
   ],
   "source": [
    "total_mean_errors = pd.merge(\n",
    "    sig_mean_errors.rename(columns={'num_errors': 'num_sig_errors'}),\n",
    "    insig_mean_errors.rename(columns={'num_errors': 'num_insig_errors'}),\n",
    "    on=['study_number', 'candidate_type'])\n",
    "total_mean_errors['total_num_errors'] = total_mean_errors['num_sig_errors'] + total_mean_errors['num_insig_errors']\n",
    "display(total_mean_errors)"
   ]
  },
  {
   "cell_type": "markdown",
   "id": "9dac8a2e-f01f-4332-993c-7837041f5d7b",
   "metadata": {},
   "source": [
    "## Visualize error distributions for report pairs"
   ]
  },
  {
   "cell_type": "code",
   "execution_count": 7,
   "id": "b27fb597-6089-42ba-a9b7-490843f21d8b",
   "metadata": {},
   "outputs": [],
   "source": [
    "def plot_errors(mean_errors, var):\n",
    "    '''Visualizes error distributions.\n",
    "\n",
    "    mean_errors: DataFrame containing mean errors for different studies and\n",
    "        candidate types.\n",
    "    var: Vertical axis variable for the bar plot.\n",
    "    '''\n",
    "    plt.figure()\n",
    "    plt.style.use('seaborn-ticks')\n",
    "    g = sns.catplot(\n",
    "        data=mean_errors,\n",
    "        x='study_number',\n",
    "        y=var,\n",
    "        hue='candidate_type',\n",
    "        kind='bar',\n",
    "        height=4,\n",
    "        aspect=3)\n",
    "    plt.title(f'Error distributions')\n",
    "    plt.xlabel('Study number')\n",
    "    plt.ylabel('Mean radiologist errors')\n",
    "    plt.show()"
   ]
  },
  {
   "cell_type": "code",
   "execution_count": 8,
   "id": "c4be0bc6-a100-45f9-800b-3aaae760ec00",
   "metadata": {},
   "outputs": [
    {
     "data": {
      "text/plain": [
       "<Figure size 432x288 with 0 Axes>"
      ]
     },
     "metadata": {},
     "output_type": "display_data"
    },
    {
     "data": {
      "image/png": "[encoded data removed]",
      "text/plain": [
       "<Figure size 948.875x288 with 1 Axes>"
      ]
     },
     "metadata": {},
     "output_type": "display_data"
    },
    {
     "data": {
      "text/plain": [
       "<Figure size 432x288 with 0 Axes>"
      ]
     },
     "metadata": {},
     "output_type": "display_data"
    },
    {
     "data": {
      "image/png": "[encoded data removed]",
      "text/plain": [
       "<Figure size 948.875x288 with 1 Axes>"
      ]
     },
     "metadata": {},
     "output_type": "display_data"
    },
    {
     "data": {
      "text/plain": [
       "<Figure size 432x288 with 0 Axes>"
      ]
     },
     "metadata": {},
     "output_type": "display_data"
    },
    {
     "data": {
      "image/png": "[encoded data removed]",
      "text/plain": [
       "<Figure size 948.875x288 with 1 Axes>"
      ]
     },
     "metadata": {},
     "output_type": "display_data"
    }
   ],
   "source": [
    "plot_errors(\n",
    "    mean_errors=total_mean_errors,\n",
    "    var='num_sig_errors')\n",
    "plot_errors(\n",
    "    mean_errors=total_mean_errors,\n",
    "    var='num_insig_errors')\n",
    "plot_errors(\n",
    "    mean_errors=total_mean_errors,\n",
    "    var='total_num_errors')"
   ]
  },
  {
   "cell_type": "markdown",
   "id": "508f5877-c48b-40b6-b0b0-373de7e5efc3",
   "metadata": {
    "tags": []
   },
   "source": [
    "## Check reports"
   ]
  },
  {
   "cell_type": "code",
   "execution_count": 9,
   "id": "4810f254-8a94-4a0c-a38d-dc5dabfd8354",
   "metadata": {},
   "outputs": [],
   "source": [
    "CANDIDATE_TYPES = [\n",
    "    'bleu',\n",
    "    'bertscore',\n",
    "    's_emb',\n",
    "    'radgraph',\n",
    "]\n",
    "\n",
    "\n",
    "def get_reports(study_reports_df, study_number):\n",
    "    '''Fetches reports by study number.\n",
    "\n",
    "    study_reports_df: DataFrame containing study ID, ground-truth report and\n",
    "        candidate reports.\n",
    "    study_number: Study number (row index).\n",
    "    '''\n",
    "    study = study_reports_df.iloc[study_number]\n",
    "    print(f'Study ID {study[\"study_id\"]}\\n\\n'\n",
    "          f'* Ground-truth report: {study[\"gt_report\"]}\\n')\n",
    "    for candidate_type in CANDIDATE_TYPES:\n",
    "        print(f'* Candidate report ({candidate_type}): {study[candidate_type]}\\n')"
   ]
  },
  {
   "cell_type": "code",
   "execution_count": 10,
   "id": "6f675586-ee2c-4bfd-99e2-9325aa4cdea8",
   "metadata": {},
   "outputs": [
    {
     "name": "stdout",
     "output_type": "stream",
     "text": [
      "Study ID 54729238\n",
      "\n",
      "* Ground-truth report: 1.  Large right hilar lung mass and radiation fibrosis.  Additional post-obstructive pneumonia in the right upper and lower lobes is possible but hard to delineate. 2.  New left retrocardiac opacity, small left effusion, and pleural thickening.  Findings were discussed with ___, RN, via telephone at ___ and again with Dr ___ at ___.\n",
      "\n",
      "* Candidate report (bleu): 1.  Left lower lobe pneumonia with small left parapneumonic effusion. 2.  New focal airspace opacities in the right lung apex and right lung base may represent superimposition of normal structures.  Attention is recommended on followup.  Findings were discussed by Dr. ___ with Dr. ___ ___ medicine via telephone at 10:50am on ___.\n",
      "\n",
      "* Candidate report (bertscore): 1.  Left lower lobe pneumonia with small left parapneumonic effusion. 2.  New focal airspace opacities in the right lung apex and right lung base may represent superimposition of normal structures.  Attention is recommended on followup.  Findings were discussed by Dr. ___ with Dr. ___ ___ medicine via telephone at 10:50am on ___.\n",
      "\n",
      "* Candidate report (s_emb): 1.  New right lower lung opacity which may be secondary to aspiration or pneumonia.  2.  Bilateral pleural thickening with prominent left pleural mass consistent with known asbestos exposure, better assessed on recent CT torso from ___.\n",
      "\n",
      "* Candidate report (radgraph): As compared to ___ chest radiograph , substantial atelectasis has developed in the right middle and right lower lobes with persistent adjacent small pleural effusion . Small left pleural effusion and adjacent left retrocardiac opacity are unchanged .\n",
      "\n"
     ]
    }
   ],
   "source": [
    "get_reports(\n",
    "    study_reports_df=study_reports_df,\n",
    "    study_number=9)"
   ]
  },
  {
   "cell_type": "code",
   "execution_count": null,
   "id": "500ccbe3-2a3f-40b4-95e5-3d197e836917",
   "metadata": {},
   "outputs": [],
   "source": []
  }
 ],
 "metadata": {
  "kernelspec": {
   "display_name": "Python 3 (ipykernel)",
   "language": "python",
   "name": "python3"
  },
  "language_info": {
   "codemirror_mode": {
    "name": "ipython",
    "version": 3
   },
   "file_extension": ".py",
   "mimetype": "text/x-python",
   "name": "python",
   "nbconvert_exporter": "python",
   "pygments_lexer": "ipython3",
   "version": "3.9.12"
  }
 },
 "nbformat": 4,
 "nbformat_minor": 5
}
